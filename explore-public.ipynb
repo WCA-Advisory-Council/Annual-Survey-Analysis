{
 "cells": [
  {
   "cell_type": "markdown",
   "id": "d1c1017d-fb1a-4ed7-b548-00a09a25e083",
   "metadata": {},
   "source": [
    "# Explore WCA Annual Survey 2022 / 23"
   ]
  },
  {
   "cell_type": "code",
   "execution_count": null,
   "id": "9e48a6c9-27b6-4773-9f3a-044e57dd4b4e",
   "metadata": {},
   "outputs": [],
   "source": [
    "import numpy as np\n",
    "import csv\n",
    "import pandas as pd"
   ]
  },
  {
   "cell_type": "code",
   "execution_count": null,
   "id": "9f15ace1-9358-4f53-af19-0265c3daa37d",
   "metadata": {},
   "outputs": [],
   "source": [
    "import matplotlib.pyplot as plt"
   ]
  },
  {
   "cell_type": "markdown",
   "id": "d0d6fe53-23c0-444c-8297-84257a60fd88",
   "metadata": {},
   "source": [
    "### Should be given later via configuration or command line"
   ]
  },
  {
   "cell_type": "code",
   "execution_count": null,
   "id": "bf098786-e2fd-4f03-bc6b-9a5612a062c8",
   "metadata": {},
   "outputs": [],
   "source": [
    "survey_group = 'Staff'\n",
    "#survey_group = 'Community-1_withID'\n",
    "#survey_group = 'Community-2_noID'"
   ]
  },
  {
   "cell_type": "code",
   "execution_count": null,
   "id": "f04be9a8-793e-40c7-85ef-5d0ab3b8a5c5",
   "metadata": {},
   "outputs": [],
   "source": [
    "survey_group = 'VS' # 'Staff'\n",
    "#survey_group = 'VC1' # 'Community-1_withID'\n",
    "#survey_group = 'VC2' # 'Community-2_noID'"
   ]
  },
  {
   "cell_type": "code",
   "execution_count": null,
   "id": "83ad2b03-ec73-47f5-85e3-d6b2dc8c028f",
   "metadata": {},
   "outputs": [],
   "source": [
    "main_path = 'WCA_Survey_2022/'"
   ]
  },
  {
   "cell_type": "markdown",
   "id": "523d805f-79fc-41f6-8313-8bed892d86bb",
   "metadata": {},
   "source": [
    "### To be placed in main python script"
   ]
  },
  {
   "cell_type": "code",
   "execution_count": null,
   "id": "231c4e08-6091-4aa8-810a-0a146a6d3cba",
   "metadata": {},
   "outputs": [],
   "source": [
    "def non_test_collector(group):\n",
    "    # returns the values of the collectorids which are actually relevant,\n",
    "    # i.e. not test runs through the survey, but actual responses by participants\n",
    "    collector_list = pd.read_csv(group + '/CollectorList.csv')\n",
    "    non_test_sel = (collector_list[\"Title\"] != 'Test')\n",
    "    non_test_collectors = collector_list[non_test_sel]\n",
    "    non_test_collector_ids = non_test_collectors[\"CollectorID\"]\n",
    "    print(non_test_collector_ids)\n",
    "    return non_test_collector_ids.values"
   ]
  },
  {
   "cell_type": "code",
   "execution_count": null,
   "id": "a6ec3ad0-161e-4d46-8e1f-0ab7b9a116a2",
   "metadata": {},
   "outputs": [],
   "source": [
    "def survey_loader(fpath):\n",
    "    # loads the survey as specified via the file path into a dataframe\n",
    "    response = pd.read_csv(fpath)\n",
    "    print(response)\n",
    "    return response"
   ]
  },
  {
   "cell_type": "code",
   "execution_count": null,
   "id": "55d887af-f457-4d64-8c28-53df426b8d4c",
   "metadata": {},
   "outputs": [],
   "source": [
    "def sel_only_true_responses(all_responses, non_test_coll_ids):\n",
    "    # returns only those responses which are not coming from a test collector id\n",
    "    non_test_responses = (all_responses['Collector ID'].isin(non_test_coll_ids))\n",
    "    \n",
    "    true_responses = all_responses[non_test_responses]\n",
    "    return true_responses"
   ]
  },
  {
   "cell_type": "code",
   "execution_count": null,
   "id": "7e6cb820-3280-4702-841f-b5859021e7d8",
   "metadata": {},
   "outputs": [],
   "source": [
    "def get_question_answer_scheme(dataframe):\n",
    "    return dataframe[:1]"
   ]
  },
  {
   "cell_type": "code",
   "execution_count": null,
   "id": "fecf4138-96ed-4a86-b7d1-c2c6d49ef465",
   "metadata": {
    "tags": []
   },
   "outputs": [],
   "source": [
    "non_test_collectors_ids = non_test_collector(f'{main_path}{survey_group}')"
   ]
  },
  {
   "cell_type": "code",
   "execution_count": null,
   "id": "f80451f5-0ea8-47fb-bb7a-a65767c1c362",
   "metadata": {
    "tags": []
   },
   "outputs": [],
   "source": [
    "non_test_collectors_ids"
   ]
  },
  {
   "cell_type": "code",
   "execution_count": null,
   "id": "b57b6c57-3a14-42c0-93e4-44ac1cfb57fc",
   "metadata": {
    "scrolled": true,
    "tags": []
   },
   "outputs": [],
   "source": [
    "not_validated = survey_loader(f'{main_path}{survey_group}/not_validated.csv')"
   ]
  },
  {
   "cell_type": "code",
   "execution_count": null,
   "id": "5425627f-b0b6-4353-877e-fce21c09e659",
   "metadata": {
    "scrolled": true,
    "tags": []
   },
   "outputs": [],
   "source": [
    "not_validated"
   ]
  },
  {
   "cell_type": "code",
   "execution_count": null,
   "id": "20565b87-da49-473e-a841-48529991be42",
   "metadata": {
    "scrolled": true,
    "tags": []
   },
   "outputs": [],
   "source": [
    "print(*not_validated.keys(), )"
   ]
  },
  {
   "cell_type": "code",
   "execution_count": null,
   "id": "6b62198e-83da-4b3c-9ca5-3eb3b6c32199",
   "metadata": {
    "tags": []
   },
   "outputs": [],
   "source": [
    "not_validated.wca_token"
   ]
  },
  {
   "cell_type": "code",
   "execution_count": null,
   "id": "8f6a3f36-d868-49ee-9a8c-2dc4a50b58c1",
   "metadata": {
    "scrolled": true,
    "tags": []
   },
   "outputs": [],
   "source": [
    "# rows with all columns, for which collectorID is NOT Test\n",
    "only_true_responses = sel_only_true_responses(not_validated, non_test_collectors_ids)"
   ]
  },
  {
   "cell_type": "code",
   "execution_count": null,
   "id": "8f817d3c-acd5-4d9b-813a-79906f65cf26",
   "metadata": {
    "scrolled": true,
    "tags": []
   },
   "outputs": [],
   "source": [
    "validated = survey_loader(f'{main_path}{survey_group}.csv')"
   ]
  },
  {
   "cell_type": "code",
   "execution_count": null,
   "id": "054deb51-db35-4e14-9b2d-883f49b031f4",
   "metadata": {
    "scrolled": true,
    "tags": []
   },
   "outputs": [],
   "source": [
    "only_true_responses = validated.iloc[1:]\n",
    "only_true_responses"
   ]
  },
  {
   "cell_type": "code",
   "execution_count": null,
   "id": "42169b70-0cfd-4821-9154-3fa9398d6ee0",
   "metadata": {},
   "outputs": [],
   "source": [
    "# the very first row of the table, which lists prepared answer options\n",
    "question_answer_scheme = get_question_answer_scheme(validated)"
   ]
  },
  {
   "cell_type": "code",
   "execution_count": null,
   "id": "b57c8666-5e3b-45f1-9232-5b68a52bae89",
   "metadata": {},
   "outputs": [],
   "source": [
    "def group_columns(q_and_a_scheme):\n",
    "    main_groups = question_answer_scheme.keys().values\n",
    "    specific_groups = question_answer_scheme.iloc[0].values\n",
    "    return main_groups, specific_groups"
   ]
  },
  {
   "cell_type": "code",
   "execution_count": null,
   "id": "c2268aca-5241-4e42-9b9c-19bb636b372a",
   "metadata": {
    "scrolled": true,
    "tags": []
   },
   "outputs": [],
   "source": [
    "question_answer_scheme.keys().values"
   ]
  },
  {
   "cell_type": "code",
   "execution_count": null,
   "id": "32b14e8a-eae7-49f3-aa19-8f4d42d86444",
   "metadata": {},
   "outputs": [],
   "source": [
    "general_q = np.arange(0,9)"
   ]
  },
  {
   "cell_type": "code",
   "execution_count": null,
   "id": "9422be62-93df-4d9a-8d54-cb0070725a70",
   "metadata": {
    "scrolled": true,
    "tags": []
   },
   "outputs": [],
   "source": [
    "main_groups, specific_groups = group_columns(question_answer_scheme)"
   ]
  },
  {
   "cell_type": "code",
   "execution_count": null,
   "id": "7e3d9d88-3cef-4b20-a643-b4dd3330862b",
   "metadata": {},
   "outputs": [],
   "source": [
    "def get_q_indices(main_g):\n",
    "    # q_options_starting_indices = []\n",
    "    # q_options_stopping_indices = []\n",
    "    q_start_stop = []\n",
    "    for k in range(len(main_g)):\n",
    "        if 'Unnamed' not in main_g[k]:\n",
    "            starts = k\n",
    "            for j in range(k,len(main_g)-1):\n",
    "                if 'Unnamed' not in main_g[j+1]:\n",
    "                    ends = j\n",
    "                    break\n",
    "            if k <= j:\n",
    "                q_start_stop.append([k,j])\n",
    "       # if 'Unnamed' in main_g[k] and 'Unnamed' not in main_g[k-1]:\n",
    "       #     q_options_starting_indices.append(k-1)\n",
    "       # if 'Unnamed' in main_g[k] and 'Unnamed' not in main_g[k+1]:\n",
    "       #     q_options_stopping_indices.append(k)\n",
    "    # return q_options_starting_indices, q_options_stopping_indices\n",
    "    return q_start_stop"
   ]
  },
  {
   "cell_type": "code",
   "execution_count": null,
   "id": "0812768f-c004-4a0f-9c12-eaea242fe733",
   "metadata": {},
   "outputs": [],
   "source": [
    "# q_options_starting_indices, q_options_stopping_indices = get_q_options_starting_indices(main_groups)"
   ]
  },
  {
   "cell_type": "code",
   "execution_count": null,
   "id": "3abc31ee-1797-47ee-b1e7-820aaac2176e",
   "metadata": {},
   "outputs": [],
   "source": [
    "q_start_stop = get_q_indices(main_groups)"
   ]
  },
  {
   "cell_type": "code",
   "execution_count": null,
   "id": "2a213699-e026-4f74-9eff-352af9713cd3",
   "metadata": {},
   "outputs": [],
   "source": [
    "# q_options_starting_indices"
   ]
  },
  {
   "cell_type": "code",
   "execution_count": null,
   "id": "7ae3f7ff-d790-4c5b-945b-48b9bfff91c4",
   "metadata": {},
   "outputs": [],
   "source": [
    "# q_options_stopping_indices"
   ]
  },
  {
   "cell_type": "code",
   "execution_count": null,
   "id": "67059e8a-e299-4c43-8dd2-8aa73f4df412",
   "metadata": {
    "scrolled": true,
    "tags": []
   },
   "outputs": [],
   "source": [
    "# these are individual questions, if start != stop, the question has multiple options\n",
    "q_start_stop"
   ]
  },
  {
   "cell_type": "code",
   "execution_count": null,
   "id": "9efd22b9-8ac9-42bc-b1c8-6f6598c7819b",
   "metadata": {},
   "outputs": [],
   "source": [
    "def get_options(list_of_qs):\n",
    "    multi_q = []\n",
    "    single_q = []\n",
    "    for i,el in enumerate(list_of_qs):\n",
    "        if el[0] != el[1]:\n",
    "            multi_q.append(i)\n",
    "        else:\n",
    "            single_q.append(i)\n",
    "    return multi_q, single_q"
   ]
  },
  {
   "cell_type": "code",
   "execution_count": null,
   "id": "b7bc8a4f-bfb5-43a0-add5-a52481c7de9b",
   "metadata": {
    "scrolled": true,
    "tags": []
   },
   "outputs": [],
   "source": [
    "main_groups"
   ]
  },
  {
   "cell_type": "code",
   "execution_count": null,
   "id": "6620e9a0-8e12-431a-a71d-5075d1adbfd5",
   "metadata": {
    "scrolled": true,
    "tags": []
   },
   "outputs": [],
   "source": [
    "specific_groups"
   ]
  },
  {
   "cell_type": "code",
   "execution_count": null,
   "id": "74ef8f7d-eb5b-45f9-8fc0-5a697322bcd5",
   "metadata": {},
   "outputs": [],
   "source": [
    "def view_one_q(df, all_q, q):\n",
    "    return df.iloc[:,all_q[q][0]:all_q[q][1]+1]"
   ]
  },
  {
   "cell_type": "code",
   "execution_count": null,
   "id": "98adcf13-f101-4b4a-aca7-3b2995518299",
   "metadata": {
    "scrolled": true,
    "tags": []
   },
   "outputs": [],
   "source": [
    "view_one_q(only_true_responses, q_start_stop, 68)"
   ]
  },
  {
   "cell_type": "code",
   "execution_count": null,
   "id": "94ccd70f-b68c-425e-9ee1-00ae7e95f0eb",
   "metadata": {},
   "outputs": [],
   "source": [
    "qs_with_multi_options, qs_with_single_option = get_options(q_start_stop)\n",
    "print(qs_with_multi_options)"
   ]
  },
  {
   "cell_type": "code",
   "execution_count": null,
   "id": "080abdb3-72d5-43fa-b3f5-8d681caf61c7",
   "metadata": {
    "scrolled": true,
    "tags": []
   },
   "outputs": [],
   "source": [
    "qs_with_single_option"
   ]
  },
  {
   "cell_type": "code",
   "execution_count": null,
   "id": "8137514c-0ba0-4f90-86f3-a7c0303f09d1",
   "metadata": {},
   "outputs": [],
   "source": [
    "def wrap(txt, width=20):\n",
    "    tmp = \"\"\n",
    "    for i in txt.split():\n",
    "        if len(tmp) + len(i) < width:\n",
    "            tmp+=\" \"+i\n",
    "        else:\n",
    "            # print(tmp.strip())\n",
    "            tmp = i\n",
    "\n",
    "#wrap(text, 20)"
   ]
  },
  {
   "cell_type": "code",
   "execution_count": null,
   "id": "8e50c1f3-8078-449a-86cd-fc658d5aa56b",
   "metadata": {},
   "outputs": [],
   "source": [
    "def custom_bar_plotter(series):\n",
    "    fig, ax = plt.subplots(figsize = (20,10))\n",
    "    ax = series.value_counts().plot.bar()\n",
    "    ax.set_xlabel('')\n",
    "    #print(ax.get_xticklabels())\n",
    "    #print(ax.get_xticks())\n",
    "    #new_labels = [wrap(l.get_text()) for l in ax.get_xticklabels()]\n",
    "    #print(new_labels)\n",
    "    #ax.set_xticklabels(new_labels, rotation = 45)\n",
    "    plt.tight_layout()\n",
    "    fig.suptitle(series.keys()[0])"
   ]
  },
  {
   "cell_type": "code",
   "execution_count": null,
   "id": "e7eebb36-f44c-48f3-9660-a692831e945c",
   "metadata": {},
   "outputs": [],
   "source": [
    "true_qs_with_single_option = qs_with_single_option[9:]"
   ]
  },
  {
   "cell_type": "code",
   "execution_count": null,
   "id": "9028cbe0-4931-4bad-8ba7-234cdfcc815c",
   "metadata": {
    "scrolled": true,
    "tags": []
   },
   "outputs": [],
   "source": [
    "for sq in true_qs_with_single_option:\n",
    "    custom_bar_plotter(view_one_q(only_true_responses, q_start_stop, sq))"
   ]
  },
  {
   "cell_type": "code",
   "execution_count": null,
   "id": "c1ba0267-05a1-4fbd-8344-809476c965cc",
   "metadata": {},
   "outputs": [],
   "source": []
  }
 ],
 "metadata": {
  "kernelspec": {
   "display_name": "Python 3",
   "language": "python",
   "name": "python3"
  },
  "language_info": {
   "codemirror_mode": {
    "name": "ipython",
    "version": 3
   },
   "file_extension": ".py",
   "mimetype": "text/x-python",
   "name": "python",
   "nbconvert_exporter": "python",
   "pygments_lexer": "ipython3",
   "version": "3.9.12"
  }
 },
 "nbformat": 4,
 "nbformat_minor": 5
}
